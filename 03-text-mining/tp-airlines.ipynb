{
 "cells": [
  {
   "cell_type": "code",
   "execution_count": 1,
   "metadata": {},
   "outputs": [],
   "source": [
    "# ejemplo tomado de: \n",
    "# https://community.hortonworks.com/articles/84781/spark-text-analytics-uncovering-data-driven-topics.html\n",
    "# github: https://github.com/zaratsian/Spark/blob/master/text_analytics_datadriven_topics.json (con zeppelin)\n",
    "# otros ejemplos muy buenos: https://github.com/zaratsian/Spark"
   ]
  },
  {
   "cell_type": "code",
   "execution_count": 1,
   "metadata": {},
   "outputs": [],
   "source": [
    "from pyspark.sql.types import *\n",
    "from pyspark.sql.functions import monotonically_increasing_id, col, expr, when, concat, lit, isnan\n",
    "from pyspark.ml.linalg import Vectors\n",
    "from pyspark.ml.regression import GeneralizedLinearRegression\n",
    "from pyspark.ml.classification import RandomForestClassifier, LogisticRegression\n",
    "from pyspark.ml.feature import VectorIndexer, VectorAssembler, StringIndexer, OneHotEncoder\n",
    "from pyspark.ml.evaluation import MulticlassClassificationEvaluator, RegressionEvaluator, BinaryClassificationEvaluator\n",
    "from pyspark.ml import Pipeline\n",
    "import pyspark"
   ]
  },
  {
   "cell_type": "code",
   "execution_count": 2,
   "metadata": {},
   "outputs": [],
   "source": [
    "from pyspark.context import SparkContext\n",
    "from pyspark.sql.session import SparkSession\n",
    "sc = SparkContext('local', \"app-topic-detection\") \n",
    "spark = SparkSession(sc)"
   ]
  },
  {
   "cell_type": "code",
   "execution_count": 3,
   "metadata": {},
   "outputs": [
    {
     "name": "stdout",
     "output_type": "stream",
     "text": [
      "+-----+---------------+---------+--------+------+--------+-----+-----------+--------------------+\n",
      "|   id|        airline|     date|location|rating|   cabin|value|recommended|              review|\n",
      "+-----+---------------+---------+--------+------+--------+-----+-----------+--------------------+\n",
      "|10001|Delta Air Lines|21-Jun-14|Thailand|     7| Economy|    4|        YES|Flew Mar 30 NRT t...|\n",
      "|10002|Delta Air Lines|19-Jun-14|     USA|     0| Economy|    2|         NO|Flight 2463 leavi...|\n",
      "|10003|Delta Air Lines|18-Jun-14|     USA|     0| Economy|    1|         NO|Delta Website fro...|\n",
      "|10004|Delta Air Lines|17-Jun-14|     USA|     9|Business|    4|        YES|\"I just returned ...|\n",
      "|10005|Delta Air Lines|17-Jun-14| Ecuador|     7| Economy|    3|        YES|\"Round-trip fligh...|\n",
      "|10006|Delta Air Lines|17-Jun-14|     USA|     9|Business|    5|        YES|Narita - Bangkok ...|\n",
      "|10007|Delta Air Lines|14-Jun-14|      UK|     0| Economy|    1|         NO|Flight from NY La...|\n",
      "|10008|Delta Air Lines|14-Jun-14|     USA|     0| Economy|    1|         NO|Originally I had ...|\n",
      "|10009|Delta Air Lines|13-Jun-14|     USA|     4|Business|    2|         NO|We flew paid busi...|\n",
      "|10010|Delta Air Lines|13-Jun-14|      UK|     9| Economy|    3|        YES|\"I flew from Heat...|\n",
      "+-----+---------------+---------+--------+------+--------+-----+-----------+--------------------+\n",
      "only showing top 10 rows\n",
      "\n"
     ]
    }
   ],
   "source": [
    "df=spark.read.csv(\"file:///opt/datasets/airlines.csv\", inferSchema=True, header=True)\n",
    "df.show(10)"
   ]
  },
  {
   "cell_type": "code",
   "execution_count": 4,
   "metadata": {},
   "outputs": [
    {
     "name": "stdout",
     "output_type": "stream",
     "text": [
      "+-----+---------------+---------+---------+------+--------+-----+-----------+--------------------+\n",
      "|   id|        airline|     date| location|rating|   cabin|value|recommended|              review|\n",
      "+-----+---------------+---------+---------+------+--------+-----+-----------+--------------------+\n",
      "|10001|Delta Air Lines|21-Jun-14| Thailand|     7| Economy|    4|        YES|Flew Mar 30 NRT t...|\n",
      "|10002|Delta Air Lines|19-Jun-14|      USA|     0| Economy|    2|         NO|Flight 2463 leavi...|\n",
      "|10003|Delta Air Lines|18-Jun-14|      USA|     0| Economy|    1|         NO|Delta Website fro...|\n",
      "|10004|Delta Air Lines|17-Jun-14|      USA|     9|Business|    4|        YES|\"I just returned ...|\n",
      "|10005|Delta Air Lines|17-Jun-14|  Ecuador|     7| Economy|    3|        YES|\"Round-trip fligh...|\n",
      "|10006|Delta Air Lines|17-Jun-14|      USA|     9|Business|    5|        YES|Narita - Bangkok ...|\n",
      "|10007|Delta Air Lines|14-Jun-14|       UK|     0| Economy|    1|         NO|Flight from NY La...|\n",
      "|10008|Delta Air Lines|14-Jun-14|      USA|     0| Economy|    1|         NO|Originally I had ...|\n",
      "|10009|Delta Air Lines|13-Jun-14|      USA|     4|Business|    2|         NO|We flew paid busi...|\n",
      "|10010|Delta Air Lines|13-Jun-14|       UK|     9| Economy|    3|        YES|\"I flew from Heat...|\n",
      "|10011|Delta Air Lines|11-Jun-14|      USA|    10| Economy|    4|        YES|I was a bit stubb...|\n",
      "|10012|Delta Air Lines|10-Jun-14|Australia|    10| Economy|    5|        YES|JFK-LHR. Had a gr...|\n",
      "|10013|Delta Air Lines| 9-Jun-14|      USA|     0| Economy|    1|         NO|My wife and I fly...|\n",
      "|10014|Delta Air Lines| 9-Jun-14|      USA|    10| Premium|    5|        YES|DL 1134 PBI-ATL. ...|\n",
      "|10015|Delta Air Lines| 6-Jun-14|      USA|     0| Economy|    2|         NO|Our flight from F...|\n",
      "|10016|Delta Air Lines| 5-Jun-14|      USA|     0| Economy|    1|         NO|On May 22 after a...|\n",
      "|10017|Delta Air Lines| 3-Jun-14|   Canada|     9| Economy|    4|        YES|Considering how D...|\n",
      "|10018|Delta Air Lines| 2-Jun-14|      USA|     9| Economy|    5|        YES|Travelled MSP-LHR...|\n",
      "|10019|Delta Air Lines|29-May-14|      USA|     7|Business|    2|        YES|JFK-LAX on a 757-...|\n",
      "|10020|Delta Air Lines|28-May-14|       UK|     9| Economy|    3|        YES|Third long haul f...|\n",
      "+-----+---------------+---------+---------+------+--------+-----+-----------+--------------------+\n",
      "only showing top 20 rows\n",
      "\n"
     ]
    }
   ],
   "source": [
    "df.createOrReplaceTempView(\"train_df\")\n",
    "sqlDF = spark.sql(\"SELECT * FROM train_df\")\n",
    "sqlDF.show()"
   ]
  },
  {
   "cell_type": "code",
   "execution_count": 5,
   "metadata": {},
   "outputs": [],
   "source": [
    "import nltk\n",
    "import pandas as pd\n",
    "import numpy as np\n",
    "import re\n",
    "import codecs\n",
    "import matplotlib.pyplot as plt"
   ]
  },
  {
   "cell_type": "code",
   "execution_count": 6,
   "metadata": {},
   "outputs": [
    {
     "name": "stderr",
     "output_type": "stream",
     "text": [
      "[nltk_data] Downloading package punkt to /Users/emontoya/nltk_data...\n",
      "[nltk_data]   Package punkt is already up-to-date!\n",
      "[nltk_data] Downloading package stopwords to\n",
      "[nltk_data]     /Users/emontoya/nltk_data...\n",
      "[nltk_data]   Package stopwords is already up-to-date!\n"
     ]
    },
    {
     "data": {
      "text/plain": [
       "True"
      ]
     },
     "execution_count": 6,
     "metadata": {},
     "output_type": "execute_result"
    }
   ],
   "source": [
    "nltk.download('punkt')\n",
    "nltk.download('stopwords')"
   ]
  },
  {
   "cell_type": "code",
   "execution_count": 7,
   "metadata": {},
   "outputs": [],
   "source": [
    "\n",
    "# stopwords en nltk\n",
    "from nltk.corpus import stopwords\n",
    " \n",
    "stop_words_nltk = set(stopwords.words('english'))"
   ]
  },
  {
   "cell_type": "code",
   "execution_count": 8,
   "metadata": {},
   "outputs": [],
   "source": [
    "from pyspark.ml.feature import HashingTF, IDF, Tokenizer, CountVectorizer\n",
    "from pyspark.sql.types import *\n",
    "from pyspark.sql.functions import *\n",
    "from pyspark.ml.linalg import Vectors, SparseVector\n",
    "from pyspark.ml.clustering import LDA, BisectingKMeans\n",
    "from pyspark.sql.functions import monotonically_increasing_id\n",
    "import re"
   ]
  },
  {
   "cell_type": "code",
   "execution_count": 9,
   "metadata": {},
   "outputs": [
    {
     "name": "stdout",
     "output_type": "stream",
     "text": [
      "root\n",
      " |-- id: string (nullable = true)\n",
      " |-- airline: string (nullable = true)\n",
      " |-- date: string (nullable = true)\n",
      " |-- location: string (nullable = true)\n",
      " |-- rating: string (nullable = true)\n",
      " |-- cabin: string (nullable = true)\n",
      " |-- value: string (nullable = true)\n",
      " |-- recommended: string (nullable = true)\n",
      " |-- review: string (nullable = true)\n",
      "\n",
      "+-----+---------------+---------+--------+------+--------+-----+-----------+--------------------+---+----------+\n",
      "|   id|        airline|     date|location|rating|   cabin|value|recommended|              review|uid|year_month|\n",
      "+-----+---------------+---------+--------+------+--------+-----+-----------+--------------------+---+----------+\n",
      "|10001|Delta Air Lines|21-Jun-14|Thailand|     7| Economy|    4|        YES|Flew Mar 30 NRT t...|  0|    21-Jun|\n",
      "|10002|Delta Air Lines|19-Jun-14|     USA|     0| Economy|    2|         NO|Flight 2463 leavi...|  1|    19-Jun|\n",
      "|10003|Delta Air Lines|18-Jun-14|     USA|     0| Economy|    1|         NO|Delta Website fro...|  2|    18-Jun|\n",
      "|10004|Delta Air Lines|17-Jun-14|     USA|     9|Business|    4|        YES|\"I just returned ...|  3|    17-Jun|\n",
      "|10005|Delta Air Lines|17-Jun-14| Ecuador|     7| Economy|    3|        YES|\"Round-trip fligh...|  4|    17-Jun|\n",
      "|10006|Delta Air Lines|17-Jun-14|     USA|     9|Business|    5|        YES|Narita - Bangkok ...|  5|    17-Jun|\n",
      "|10007|Delta Air Lines|14-Jun-14|      UK|     0| Economy|    1|         NO|Flight from NY La...|  6|    14-Jun|\n",
      "|10008|Delta Air Lines|14-Jun-14|     USA|     0| Economy|    1|         NO|Originally I had ...|  7|    14-Jun|\n",
      "|10009|Delta Air Lines|13-Jun-14|     USA|     4|Business|    2|         NO|We flew paid busi...|  8|    13-Jun|\n",
      "|10010|Delta Air Lines|13-Jun-14|      UK|     9| Economy|    3|        YES|\"I flew from Heat...|  9|    13-Jun|\n",
      "+-----+---------------+---------+--------+------+--------+-----+-----------+--------------------+---+----------+\n",
      "only showing top 10 rows\n",
      "\n",
      "('id', 'string')\n",
      "('airline', 'string')\n",
      "('date', 'string')\n",
      "('location', 'string')\n",
      "('rating', 'string')\n",
      "('cabin', 'string')\n",
      "('value', 'string')\n",
      "('recommended', 'string')\n",
      "('review', 'string')\n",
      "('uid', 'bigint')\n",
      "('year_month', 'string')\n"
     ]
    },
    {
     "data": {
      "text/plain": [
       "[('rating', 'int')]"
      ]
     },
     "execution_count": 9,
     "metadata": {},
     "output_type": "execute_result"
    }
   ],
   "source": [
    "rawdata = spark.read.load(\"file:///opt/datasets/airlines.csv\", format=\"csv\", header=True)\n",
    "rawdata.printSchema()\n",
    "rawdata[0]\n",
    "rawdata = rawdata.fillna({'review': ''})                               # Replace nulls with blank string\n",
    "\n",
    "# Add Unique ID\n",
    "rawdata = rawdata.withColumn(\"uid\", monotonically_increasing_id())     # Create Unique ID\n",
    "\n",
    "# Generate YYYY-MM variable\n",
    "rawdata = rawdata.withColumn(\"year_month\", rawdata.date.substr(1,6))\n",
    "\n",
    "# Show rawdata (as DataFrame)\n",
    "rawdata.show(10)\n",
    "\n",
    "# Print data types\n",
    "for type in rawdata.dtypes:\n",
    "    print(type)\n",
    "\n",
    "target = rawdata.select(rawdata['rating'].cast(IntegerType()))\n",
    "target.dtypes"
   ]
  },
  {
   "cell_type": "code",
   "execution_count": 10,
   "metadata": {},
   "outputs": [],
   "source": [
    "################################################################################################\n",
    "#\n",
    "#   Text Pre-processing (consider using one or all of the following):\n",
    "#       - Remove common words (with stoplist)\n",
    "#       - Handle punctuation\n",
    "#       - lowcase/upcase\n",
    "#       - Stemming\n",
    "#       - Part-of-Speech Tagging (nouns, verbs, adj, etc.)\n",
    "#\n",
    "################################################################################################\n",
    "\n",
    "def cleanup_text(record):\n",
    "    text  = record[8]\n",
    "    uid   = record[9]\n",
    "    words = text.split()\n",
    "    \n",
    "    # Default list of Stopwords\n",
    "    stopwords_core = ['a', u'about', u'above', u'after', u'again', u'against', u'all', u'am', u'an', u'and', u'any', u'are', u'arent', u'as', u'at', \n",
    "    u'be', u'because', u'been', u'before', u'being', u'below', u'between', u'both', u'but', u'by', \n",
    "    u'can', 'cant', 'come', u'could', 'couldnt', \n",
    "    u'd', u'did', u'didn', u'do', u'does', u'doesnt', u'doing', u'dont', u'down', u'during', \n",
    "    u'each', \n",
    "    u'few', 'finally', u'for', u'from', u'further', \n",
    "    u'had', u'hadnt', u'has', u'hasnt', u'have', u'havent', u'having', u'he', u'her', u'here', u'hers', u'herself', u'him', u'himself', u'his', u'how', \n",
    "    u'i', u'if', u'in', u'into', u'is', u'isnt', u'it', u'its', u'itself', \n",
    "    u'just', \n",
    "    u'll', \n",
    "    u'm', u'me', u'might', u'more', u'most', u'must', u'my', u'myself', \n",
    "    u'no', u'nor', u'not', u'now', \n",
    "    u'o', u'of', u'off', u'on', u'once', u'only', u'or', u'other', u'our', u'ours', u'ourselves', u'out', u'over', u'own', \n",
    "    u'r', u're', \n",
    "    u's', 'said', u'same', u'she', u'should', u'shouldnt', u'so', u'some', u'such', \n",
    "    u't', u'than', u'that', 'thats', u'the', u'their', u'theirs', u'them', u'themselves', u'then', u'there', u'these', u'they', u'this', u'those', u'through', u'to', u'too', \n",
    "    u'under', u'until', u'up', \n",
    "    u'very', \n",
    "    u'was', u'wasnt', u'we', u'were', u'werent', u'what', u'when', u'where', u'which', u'while', u'who', u'whom', u'why', u'will', u'with', u'wont', u'would', \n",
    "    u'y', u'you', u'your', u'yours', u'yourself', u'yourselves']\n",
    "    \n",
    "    # Custom List of Stopwords - Add your own here\n",
    "    stopwords_custom = ['']\n",
    "    stopwords = stopwords_core + stopwords_custom\n",
    "    stopwords = [word.lower() for word in stopwords]    \n",
    "    \n",
    "    text_out = [re.sub('[^a-zA-Z0-9]','',word) for word in words]                                       # Remove special characters\n",
    "    text_out = [word.lower() for word in text_out if len(word)>2 and word.lower() not in stopwords]     # Remove stopwords and words under X length\n",
    "    return text_out\n",
    "\n",
    "udf_cleantext = udf(cleanup_text , ArrayType(StringType()))\n",
    "clean_text = rawdata.withColumn(\"words\", udf_cleantext(struct([rawdata[x] for x in rawdata.columns])))\n",
    "\n",
    "#tokenizer = Tokenizer(inputCol=\"description\", outputCol=\"words\")\n",
    "#wordsData = tokenizer.transform(text)"
   ]
  },
  {
   "cell_type": "code",
   "execution_count": 11,
   "metadata": {},
   "outputs": [],
   "source": [
    "# Term Frequency Vectorization  - Option 1 (Using hashingTF): \n",
    "#hashingTF = HashingTF(inputCol=\"words\", outputCol=\"rawFeatures\", numFeatures=20)\n",
    "#featurizedData = hashingTF.transform(clean_text)\n",
    "\n",
    "# Term Frequency Vectorization  - Option 2 (CountVectorizer)    : \n",
    "cv = CountVectorizer(inputCol=\"words\", outputCol=\"rawFeatures\", vocabSize = 1000)\n",
    "cvmodel = cv.fit(clean_text)\n",
    "featurizedData = cvmodel.transform(clean_text)\n",
    "\n",
    "vocab = cvmodel.vocabulary\n",
    "vocab_broadcast = sc.broadcast(vocab)\n",
    "\n",
    "idf = IDF(inputCol=\"rawFeatures\", outputCol=\"features\")\n",
    "idfModel = idf.fit(featurizedData)\n",
    "rescaledData = idfModel.transform(featurizedData)"
   ]
  },
  {
   "cell_type": "code",
   "execution_count": 13,
   "metadata": {},
   "outputs": [
    {
     "name": "stdout",
     "output_type": "stream",
     "text": [
      "+-----+---------------------------------------------------------------------------------------------+\n",
      "|topic|topic_desc                                                                                   |\n",
      "+-----+---------------------------------------------------------------------------------------------+\n",
      "|0    |[extra, row, main, segments, legroom, exit, cabin, pay, seat, seats]                         |\n",
      "|1    |[vegas, las, upgrade, economy, upgraded, seat, online, internal, dec, seats]                 |\n",
      "|2    |[oakland, nearly, phoenix, less, united, york, couple, lax, time, flights]                   |\n",
      "|3    |[san, phoenix, day, missed, connection, told, desk, connecting, diego, leaving]              |\n",
      "|4    |[son, supervisor, boarding, different, told, seattle, agent, southwest, got, check]          |\n",
      "|5    |[clt, wife, airways, class, miles, lga, club, coach, first, seats]                           |\n",
      "|6    |[phl, louisville, philadelphia, washington, laguardia, york, set, airways, rude, houston]    |\n",
      "|7    |[carry, overhead, recline, seat, fit, ice, may, crew, drink, price]                          |\n",
      "|8    |[sfo, dtw, southwest, orlando, lhr, delta, trip, flights, seats, storm]                      |\n",
      "|9    |[min, delta, representative, check, bus, landing, anyone, terminal, baggage, got]            |\n",
      "|10   |[lady, proceeded, wheelchair, ticket, name, cleveland, columbus, luggage, lost, ewr]         |\n",
      "|11   |[paris, detroit, philly, hrs, united, wifi, flights, hour, family, plane]                    |\n",
      "|12   |[denver, mechanical, hours, delayed, airport, connecting, hour, night, next, stuck]          |\n",
      "|13   |[priority, average, quality, guess, amsterdam, poor, nothing, etc, low, flights]             |\n",
      "|14   |[gate, bags, minutes, plane, passes, milwaukee, told, charlotte, sat, boarding]              |\n",
      "|15   |[business, delta, class, deltas, lax, 777, meal, cabin, sydney, usa]                         |\n",
      "|16   |[tampa, ord, atlanta, canada, day, got, cancelled, 2014, florida, next]                      |\n",
      "|17   |[phx, honolulu, hnl, economy, configuration, american, premium, 300, entertainment, class]   |\n",
      "|18   |[today, text, scheduled, frankfurt, actually, received, depart, gate, airport, philadelphia] |\n",
      "|19   |[dublin, louis, absolutely, france, usually, always, airplane, beginning, baggage, delays]   |\n",
      "|20   |[good, selection, served, excellent, drinks, better, comfortable, friendly, efficient, great]|\n",
      "|21   |[dallas, london, toronto, chicago, cancelled, rep, connecting, ohare, atlanta, next]         |\n",
      "|22   |[line, agent, asked, beverage, called, cup, agents, request, customer, boston]               |\n",
      "|23   |[return, mexico, seating, nov, ridiculous, delta, flew, knew, since, show]                   |\n",
      "|24   |[despite, employees, envoy, confirmed, level, lounge, phl, outbound, 1st, boarding]          |\n",
      "+-----+---------------------------------------------------------------------------------------------+\n",
      "\n"
     ]
    }
   ],
   "source": [
    "# Generate 25 Data-Driven Topics:\n",
    "lda = LDA(k=25, seed=123, optimizer=\"em\", featuresCol=\"features\")\n",
    "\n",
    "ldamodel = lda.fit(rescaledData)\n",
    "\n",
    "#model.isDistributed()\n",
    "#model.vocabSize()\n",
    "\n",
    "ldatopics = ldamodel.describeTopics()\n",
    "#ldatopics.show(25)\n",
    "\n",
    "def map_termID_to_Word(termIndices):\n",
    "    words = []\n",
    "    for termID in termIndices:\n",
    "        words.append(vocab_broadcast.value[termID])\n",
    "    \n",
    "    return words\n",
    "\n",
    "udf_map_termID_to_Word = udf(map_termID_to_Word , ArrayType(StringType()))\n",
    "ldatopics_mapped = ldatopics.withColumn(\"topic_desc\", udf_map_termID_to_Word(ldatopics.termIndices))\n",
    "ldatopics_mapped.select(ldatopics_mapped.topic, ldatopics_mapped.topic_desc).show(50,False)"
   ]
  },
  {
   "cell_type": "code",
   "execution_count": 14,
   "metadata": {},
   "outputs": [
    {
     "name": "stdout",
     "output_type": "stream",
     "text": [
      "+-----+---------------+---------+--------+------+--------------------+--------------------+--------------------+\n",
      "|   id|        airline|     date|   cabin|rating|               words|            features|   topicDistribution|\n",
      "+-----+---------------+---------+--------+------+--------------------+--------------------+--------------------+\n",
      "|10001|Delta Air Lines|21-Jun-14| Economy|     7|[flew, mar, nrt, ...|(1000,[0,3,11,25,...|[0.03326390899231...|\n",
      "|10002|Delta Air Lines|19-Jun-14| Economy|     0|[flight, 2463, le...|(1000,[0,1,5,8,15...|[0.03232534061717...|\n",
      "|10003|Delta Air Lines|18-Jun-14| Economy|     0|[delta, website, ...|(1000,[0,3,4,8,16...|[0.02085699457876...|\n",
      "|10004|Delta Air Lines|17-Jun-14|Business|     9|[returned, roundt...|(1000,[0,1,2,3,8,...|[0.04526958235729...|\n",
      "|10005|Delta Air Lines|17-Jun-14| Economy|     7|[roundtrip, fligh...|(1000,[0,4,8,10,1...|[0.02298085578274...|\n",
      "|10006|Delta Air Lines|17-Jun-14|Business|     9|[narita, bangkok,...|(1000,[0,2,3,9,11...|[0.06414645296172...|\n",
      "|10007|Delta Air Lines|14-Jun-14| Economy|     0|[flight, guardia,...|(1000,[0,5,8,15,1...|[0.03727825788794...|\n",
      "|10008|Delta Air Lines|14-Jun-14| Economy|     0|[originally, hour...|(1000,[3,4,8,15,1...|[0.05744287096646...|\n",
      "|10009|Delta Air Lines|13-Jun-14|Business|     4|[flew, paid, busi...|(1000,[0,1,2,4,7,...|[0.00818602003528...|\n",
      "|10010|Delta Air Lines|13-Jun-14| Economy|     9|[flew, heathrow, ...|(1000,[0,2,8,10,1...|[0.02730825264328...|\n",
      "|10011|Delta Air Lines|11-Jun-14| Economy|    10|[bit, stubborn, f...|(1000,[0,1,8,9,14...|[0.03436120058436...|\n",
      "|10012|Delta Air Lines|10-Jun-14| Economy|    10|[jfklhr, great, t...|(1000,[0,1,2,7,8,...|[0.03453878580328...|\n",
      "|10013|Delta Air Lines| 9-Jun-14| Economy|     0|[wife, fly, frequ...|(1000,[0,8,12,15,...|[0.01963685513322...|\n",
      "|10014|Delta Air Lines| 9-Jun-14| Premium|    10|[1134, pbiatl, gr...|(1000,[0,1,3,4,8,...|[0.04123436035494...|\n",
      "|10015|Delta Air Lines| 6-Jun-14| Economy|     0|[flight, fairbank...|(1000,[0,2,3,8,15...|[0.03666473777375...|\n",
      "|10016|Delta Air Lines| 5-Jun-14| Economy|     0|[may, 6hour, dela...|(1000,[0,1,8,12,2...|[0.01631389554672...|\n",
      "|10017|Delta Air Lines| 3-Jun-14| Economy|     9|[considering, del...|(1000,[0,2,3,8,18...|[0.02790406635492...|\n",
      "|10018|Delta Air Lines| 2-Jun-14| Economy|     9|[travelled, msplh...|(1000,[0,1,3,7,8,...|[0.08869943355230...|\n",
      "|10019|Delta Air Lines|29-May-14|Business|     7|[jfklax, 757200, ...|(1000,[0,2,7,9,11...|[0.02730409418435...|\n",
      "|10020|Delta Air Lines|28-May-14| Economy|     9|[third, long, hau...|(1000,[0,1,3,4,7,...|[0.03560481564140...|\n",
      "+-----+---------------+---------+--------+------+--------------------+--------------------+--------------------+\n",
      "only showing top 20 rows\n",
      "\n"
     ]
    }
   ],
   "source": [
    "ldaResults = ldamodel.transform(rescaledData)\n",
    "\n",
    "ldaResults.select('id','airline','date','cabin','rating','words','features','topicDistribution').show()"
   ]
  },
  {
   "cell_type": "code",
   "execution_count": 15,
   "metadata": {},
   "outputs": [
    {
     "name": "stdout",
     "output_type": "stream",
     "text": [
      "+-----+---------------+---------+--------+------+--------------------+--------------------+--------------------+-----------+-----------+\n",
      "|   id|        airline|     date|   cabin|rating|               words|            features|   topicDistribution|   Topic_12|   Topic_20|\n",
      "+-----+---------------+---------+--------+------+--------------------+--------------------+--------------------+-----------+-----------+\n",
      "|10001|Delta Air Lines|21-Jun-14| Economy|     7|[flew, mar, nrt, ...|(1000,[0,3,11,25,...|[0.03326390899231...| 0.02525354| 0.06193166|\n",
      "|10002|Delta Air Lines|19-Jun-14| Economy|     0|[flight, 2463, le...|(1000,[0,1,5,8,15...|[0.03232534061717...| 0.08261078|0.020200083|\n",
      "|10003|Delta Air Lines|18-Jun-14| Economy|     0|[delta, website, ...|(1000,[0,3,4,8,16...|[0.02085699457876...|0.040910717|0.017439311|\n",
      "|10004|Delta Air Lines|17-Jun-14|Business|     9|[returned, roundt...|(1000,[0,1,2,3,8,...|[0.04526958235729...|0.017391128| 0.12361219|\n",
      "|10005|Delta Air Lines|17-Jun-14| Economy|     7|[roundtrip, fligh...|(1000,[0,4,8,10,1...|[0.02298085578274...| 0.02120868|0.034676604|\n",
      "|10006|Delta Air Lines|17-Jun-14|Business|     9|[narita, bangkok,...|(1000,[0,2,3,9,11...|[0.06414645296172...|0.024676472| 0.26750162|\n",
      "|10007|Delta Air Lines|14-Jun-14| Economy|     0|[flight, guardia,...|(1000,[0,5,8,15,1...|[0.03727825788794...| 0.10150222|0.017945928|\n",
      "|10008|Delta Air Lines|14-Jun-14| Economy|     0|[originally, hour...|(1000,[3,4,8,15,1...|[0.05744287096646...|0.038734317|0.026780164|\n",
      "|10009|Delta Air Lines|13-Jun-14|Business|     4|[flew, paid, busi...|(1000,[0,1,2,4,7,...|[0.00818602003528...|0.009902783|0.009590677|\n",
      "|10010|Delta Air Lines|13-Jun-14| Economy|     9|[flew, heathrow, ...|(1000,[0,2,8,10,1...|[0.02730825264328...|0.014978536| 0.47008902|\n",
      "|10011|Delta Air Lines|11-Jun-14| Economy|    10|[bit, stubborn, f...|(1000,[0,1,8,9,14...|[0.03436120058436...| 0.03332898| 0.07815182|\n",
      "|10012|Delta Air Lines|10-Jun-14| Economy|    10|[jfklhr, great, t...|(1000,[0,1,2,7,8,...|[0.03453878580328...|0.025291782| 0.03163986|\n",
      "|10013|Delta Air Lines| 9-Jun-14| Economy|     0|[wife, fly, frequ...|(1000,[0,8,12,15,...|[0.01963685513322...|  0.1330253|0.016855583|\n",
      "|10014|Delta Air Lines| 9-Jun-14| Premium|    10|[1134, pbiatl, gr...|(1000,[0,1,3,4,8,...|[0.04123436035494...| 0.02966497|0.037319638|\n",
      "|10015|Delta Air Lines| 6-Jun-14| Economy|     0|[flight, fairbank...|(1000,[0,2,3,8,15...|[0.03666473777375...|0.029899683|0.061034877|\n",
      "|10016|Delta Air Lines| 5-Jun-14| Economy|     0|[may, 6hour, dela...|(1000,[0,1,8,12,2...|[0.01631389554672...| 0.03292688|0.015823344|\n",
      "|10017|Delta Air Lines| 3-Jun-14| Economy|     9|[considering, del...|(1000,[0,2,3,8,18...|[0.02790406635492...|0.028120747|0.053235773|\n",
      "|10018|Delta Air Lines| 2-Jun-14| Economy|     9|[travelled, msplh...|(1000,[0,1,3,7,8,...|[0.08869943355230...|0.032306474|0.042592574|\n",
      "|10019|Delta Air Lines|29-May-14|Business|     7|[jfklax, 757200, ...|(1000,[0,2,7,9,11...|[0.02730409418435...|0.015876722|  0.1449739|\n",
      "|10020|Delta Air Lines|28-May-14| Economy|     9|[third, long, hau...|(1000,[0,1,3,4,7,...|[0.03560481564140...|0.026256038| 0.14743476|\n",
      "+-----+---------------+---------+--------+------+--------------------+--------------------+--------------------+-----------+-----------+\n",
      "only showing top 20 rows\n",
      "\n"
     ]
    }
   ],
   "source": [
    "def breakout_array(index_number, record):\n",
    "    vectorlist = record.tolist()\n",
    "    return vectorlist[index_number]\n",
    "\n",
    "udf_breakout_array = udf(breakout_array, FloatType())\n",
    "\n",
    "# Extract document weights for Topics 12 and 20\n",
    "enrichedData = ldaResults                                                                   \\\n",
    "        .withColumn(\"Topic_12\", udf_breakout_array(lit(12), ldaResults.topicDistribution))  \\\n",
    "        .withColumn(\"topic_20\", udf_breakout_array(lit(20), ldaResults.topicDistribution))            \n",
    "\n",
    "enrichedData.select('id','airline','date','cabin','rating','words','features','topicDistribution','Topic_12','Topic_20').show()\n",
    "\n",
    "#enrichedData.agg(max(\"Topic_12\")).show()"
   ]
  },
  {
   "cell_type": "code",
   "execution_count": null,
   "metadata": {},
   "outputs": [],
   "source": []
  }
 ],
 "metadata": {
  "kernelspec": {
   "display_name": "Python 3",
   "language": "python",
   "name": "python3"
  },
  "language_info": {
   "codemirror_mode": {
    "name": "ipython",
    "version": 3
   },
   "file_extension": ".py",
   "mimetype": "text/x-python",
   "name": "python",
   "nbconvert_exporter": "python",
   "pygments_lexer": "ipython3",
   "version": "3.7.3"
  }
 },
 "nbformat": 4,
 "nbformat_minor": 2
}
